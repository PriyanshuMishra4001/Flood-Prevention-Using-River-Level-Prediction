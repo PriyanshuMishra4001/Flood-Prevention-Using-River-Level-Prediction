{
 "cells": [
  {
   "cell_type": "code",
   "execution_count": null,
   "metadata": {},
   "outputs": [],
   "source": [
    "# Importing the libraries here \n",
    "import pandas as pd\n",
    "import numpy as np\n",
    "from sklearn.model_selection import train_test_split\n",
    "from sklearn.preprocessing import StandardScaler, MinMaxScaler\n",
    "import tensorflow as tf\n",
    "from sklearn.metrics import mean_squared_error, mean_absolute_error, r2_score\n",
    "from tensorflow.keras.models import Sequential\n",
    "from tensorflow.keras.layers import Dense\n",
    "from tensorflow.keras.callbacks import Callback, ReduceLROnPlateau\n",
    "import matplotlib.pyplot as plt\n",
    "import math"
   ]
  },
  {
   "cell_type": "code",
   "execution_count": null,
   "metadata": {},
   "outputs": [],
   "source": [
    "# This function deals with loading the data and doing some minor operations\n",
    "def load_and_preprocess_data(file_path, selected_columns):\n",
    "    data = pd.read_csv(file_path)\n",
    "    data = data[selected_columns]\n",
    "    data = data.dropna()\n",
    "    pressure_mean = data['Pressure'].mean() # Calculate the mean of the Pressure column\n",
    "    print(\"Mean Pressure \", pressure_mean)\n",
    "    print(data[data['Pressure']==0].count())\n",
    "    data.loc[data['Pressure'] == 0, 'Pressure'] = pressure_mean # Replace all the rows with the mean value if the pressure is recorded as zero\n",
    "    print(data[data['Pressure']==0].count())\n",
    "    data = data.sort_values(by='Timestamp').reset_index(drop=True) # Sort the data as per the timestamp and drop the timestamp column\n",
    "    data['Timestamp'] = range(1, len(data) + 1) # Assign Numeric Values to the timestamp column\n",
    "    return data "
   ]
  },
  {
   "cell_type": "code",
   "execution_count": null,
   "metadata": {},
   "outputs": [],
   "source": [
    "# This function splits the data into feature set and target\n",
    "def split_features_target(data, target_column):\n",
    "    X = data.drop(target_column, axis=1)\n",
    "    y = data[target_column]\n",
    "    return X, y"
   ]
  },
  {
   "cell_type": "code",
   "execution_count": null,
   "metadata": {},
   "outputs": [],
   "source": [
    "def split_train_test(X, y, test_size=0.3, random_state=420):\n",
    "    return train_test_split(X, y, test_size=test_size, random_state=random_state)"
   ]
  },
  {
   "cell_type": "code",
   "execution_count": null,
   "metadata": {},
   "outputs": [],
   "source": [
    "# Function to scale the data\n",
    "def scale_data(X_train, X_test, y_train, y_test):\n",
    "    feature_scaler = StandardScaler()\n",
    "    X_train_scaled = feature_scaler.fit_transform(X_train)\n",
    "    X_test_scaled = feature_scaler.transform(X_test)\n",
    "\n",
    "    target_scaler = MinMaxScaler()\n",
    "    y_train_scaled = target_scaler.fit_transform(y_train.values.reshape(-1, 1)).flatten()\n",
    "    y_test_scaled = target_scaler.transform(y_test.values.reshape(-1, 1)).flatten()\n",
    "\n",
    "    return X_train_scaled, X_test_scaled, y_train_scaled, y_test_scaled, feature_scaler, target_scaler"
   ]
  },
  {
   "cell_type": "code",
   "execution_count": null,
   "metadata": {},
   "outputs": [],
   "source": [
    "# The model is built in this block of code\n",
    "def build_model(input_dim, hidden_layer_sizes=(64, 128, 128, 64, 32, 8), learning_rate_init=0.004):\n",
    "    model = Sequential()\n",
    "    model.add(Dense(hidden_layer_sizes[0], input_dim=input_dim, activation='relu'))\n",
    "    for layer_size in hidden_layer_sizes[1:]:\n",
    "        model.add(Dense(layer_size, activation='relu'))\n",
    "    model.add(Dense(1))\n",
    "    optimizer = tf.keras.optimizers.Adam(learning_rate=learning_rate_init)\n",
    "    model.compile(optimizer=optimizer, loss='mean_squared_error')\n",
    "    return model"
   ]
  },
  {
   "cell_type": "code",
   "execution_count": null,
   "metadata": {},
   "outputs": [],
   "source": [
    "#This class has a function on_epoch_end which stores the mse, mae, r2 and rmse on the end of each epoch. \n",
    "class MetricsHistory(Callback):\n",
    "    def __init__(self, X_test, y_test):\n",
    "        super().__init__()\n",
    "        self.X_test = X_test\n",
    "        self.y_test = y_test\n",
    "        self.mse_history = []\n",
    "        self.r2_history = []\n",
    "        self.mae_history = []\n",
    "        self.rmse_history = []\n",
    "\n",
    "    def on_epoch_end(self, epoch, logs=None):\n",
    "        y_pred = self.model.predict(self.X_test).flatten()\n",
    "        mse = mean_squared_error(self.y_test, y_pred)\n",
    "        mae = mean_absolute_error(self.y_test, y_pred)\n",
    "        rmse = np.sqrt(mse)\n",
    "        r2 = r2_score(self.y_test, y_pred)\n",
    "        self.mse_history.append(mse)\n",
    "        self.mae_history.append(mae)\n",
    "        self.rmse_history.append(rmse)\n",
    "        self.r2_history.append(r2)"
   ]
  },
  {
   "cell_type": "code",
   "execution_count": null,
   "metadata": {},
   "outputs": [],
   "source": [
    "def train_and_record_metrics(X_train_scaled, y_train, X_test_scaled, y_test, input_dim, hidden_layer_sizes, learning_rate, batch_size):\n",
    "    model = build_model(input_dim=input_dim, hidden_layer_sizes=hidden_layer_sizes, learning_rate_init=learning_rate) # Initializimg the model with the given parameters\n",
    "    metrics_history = MetricsHistory(X_test_scaled, y_test) # Making the object of the class MetricsHistory\n",
    "    lr_scheduler = ReduceLROnPlateau(monitor='val_loss', factor=0.5, patience=5, min_lr=1e-5, verbose=1) # It is used for adjusting the learningn rate with increasing epocs. It uses val_loss as its metrics by which it judges whether is it needed to change the learning rate or not\n",
    "    model.fit(X_train_scaled, y_train, validation_data=(X_test_scaled, y_test),\n",
    "              epochs=300, batch_size=batch_size, callbacks=[metrics_history, lr_scheduler], verbose=0) # Training the model\n",
    "\n",
    "    return model, metrics_history"
   ]
  },
  {
   "cell_type": "code",
   "execution_count": null,
   "metadata": {},
   "outputs": [],
   "source": [
    "# This function is plotting the MSE, MAE, RMSE and R2 from the metrics_histories stored for each model trained with different type of input.\n",
    "def plot_metrics(metrics_histories, labels):\n",
    "    plt.figure(figsize=(20, 12))\n",
    "\n",
    "    plt.subplot(2, 2, 1)\n",
    "    for label, history in zip(labels, metrics_histories):\n",
    "        plt.plot(history.mse_history, label=label, linewidth=2)\n",
    "    plt.xlabel('Epoch', fontsize=18)\n",
    "    plt.ylabel('MSE', fontsize=18)\n",
    "    plt.title('MSE vs Epochs', fontsize=20)\n",
    "    plt.legend(fontsize=25)\n",
    "\n",
    "    plt.subplot(2, 2, 2)\n",
    "    for label, history in zip(labels, metrics_histories):\n",
    "        plt.plot(history.mae_history, label=label, linewidth=2)\n",
    "    plt.xlabel('Epoch', fontsize=18)\n",
    "    plt.ylabel('MAE', fontsize=18)\n",
    "    plt.title('MAE vs Epochs', fontsize=20)\n",
    "    plt.legend(fontsize=25)\n",
    "\n",
    "    plt.subplot(2, 2, 3)\n",
    "    for label, history in zip(labels, metrics_histories):\n",
    "        plt.plot(history.rmse_history, label=label, linewidth=2)\n",
    "    plt.xlabel('Epoch', fontsize=18)\n",
    "    plt.ylabel('RMSE', fontsize=18)\n",
    "    plt.title('RMSE vs Epochs', fontsize=20)\n",
    "    plt.legend(fontsize=25)\n",
    "\n",
    "    plt.subplot(2, 2, 4)\n",
    "    for label, history in zip(labels, metrics_histories):\n",
    "        plt.plot(history.r2_history, label=label, linewidth=2)\n",
    "    plt.xlabel('Epoch', fontsize=18)\n",
    "    plt.ylabel('R² Score', fontsize=18)\n",
    "    plt.title('R² vs Epochs', fontsize=20)\n",
    "    plt.legend(fontsize=25)\n",
    "\n",
    "    plt.tight_layout()\n",
    "    plt.show()\n"
   ]
  },
  {
   "cell_type": "code",
   "execution_count": null,
   "metadata": {},
   "outputs": [],
   "source": [
    "def ablation_layer_study(selected_columns, target_column='Level'):\n",
    "    merged_df = load_and_preprocess_data('./Datasets/2022-Kippure.csv', selected_columns)#Calling the function to do some preprocessing and loading the data\n",
    "\n",
    "    X, y = split_features_target(merged_df, target_column)# Splitting the data into features, target. X represents the feature columns and y represents the target columns.\n",
    "    X_train, X_test, y_train, y_test = split_train_test(X, y) # Calling the function to split the data into training and testing data. \n",
    "    X_train_scaled, X_test_scaled, y_train_scaled, y_test_scaled, feature_scaler, target_scaler = scale_data(X_train, X_test, y_train, y_test) # Calling the function to scale the data. We have used StandardScaler and MinmaxScaler to scale the data. \n",
    "    print(\"Training data shape:\", X_train_scaled.shape)\n",
    "    print(\"Testing data shape:\", X_test_scaled.shape)\n",
    "    #  Defined the model parameters below\n",
    "    learning_rate = 0.001\n",
    "    hidden_layer_configurations = [\n",
    "        (64, 128, 128, 64, 32, 8),\n",
    "        (64, 128, 128, 64, 32),\n",
    "        (64, 128, 128, 64),\n",
    "        (64, 128, 64),\n",
    "        (64, 64),\n",
    "    ]\n",
    "    metrics_histories = []\n",
    "    models = []\n",
    "    labels = []\n",
    "    results = []\n",
    "    batch_size = 256\n",
    "    # Loop for the feature ablation\n",
    "    for hidden_layers in hidden_layer_configurations:\n",
    "        model, metrics_history = train_and_record_metrics(X_train_scaled, y_train_scaled, X_test_scaled, y_test_scaled, X.shape[1], hidden_layers, learning_rate, batch_size)\n",
    "        metrics_histories.append(metrics_history)\n",
    "        models.append(model)\n",
    "        labels.append(f\"{len(hidden_layers)} Hidden layers\")\n",
    "\n",
    "        # Calculate final metrics for the current configuration\n",
    "        y_pred = model.predict(X_test_scaled).flatten()\n",
    "        mse = mean_squared_error(y_test_scaled, y_pred)\n",
    "        mae = mean_absolute_error(y_test_scaled, y_pred)\n",
    "        r2 = r2_score(y_test_scaled, y_pred)\n",
    "        results.append({\n",
    "            \"Hidden Layers\": len(hidden_layers),\n",
    "            \"MSE\": mse,\n",
    "            \"MAE\": mae,\n",
    "            \"R²\": r2\n",
    "        })\n",
    "\n",
    "    # Plot the metrics for the current configuration\n",
    "    plot_metrics(metrics_histories, labels)    \n",
    "\n",
    "    results_df = pd.DataFrame(results)\n",
    "    print(results_df)"
   ]
  },
  {
   "cell_type": "code",
   "execution_count": null,
   "metadata": {},
   "outputs": [],
   "source": [
    "if __name__ == \"__main__\":\n",
    "    selected_columns = ['Windspeed', 'Humidity', 'Temperature', 'Dewpoint', 'Pressure', 'Reading', 'Wind direction', 'Level']\n",
    "    print(\"Performing Hidden Layer Ablation Study...\")\n",
    "    ablation_layer_study(selected_columns)"
   ]
  }
 ],
 "metadata": {
  "language_info": {
   "name": "python"
  }
 },
 "nbformat": 4,
 "nbformat_minor": 2
}

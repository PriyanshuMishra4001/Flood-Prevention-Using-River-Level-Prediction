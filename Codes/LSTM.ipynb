{
 "cells": [
  {
   "cell_type": "code",
   "execution_count": null,
   "metadata": {},
   "outputs": [],
   "source": [
    "import pandas as pd\n",
    "import numpy as np\n",
    "from sklearn.model_selection import train_test_split\n",
    "from sklearn.preprocessing import StandardScaler, MinMaxScaler\n",
    "import tensorflow as tf\n",
    "from sklearn.metrics import mean_squared_error, mean_absolute_error, r2_score\n",
    "from tensorflow.keras.models import Sequential\n",
    "from tensorflow.keras.layers import LSTM, Dense\n",
    "from tensorflow.keras.callbacks import Callback, ReduceLROnPlateau\n",
    "import matplotlib.pyplot as plt"
   ]
  },
  {
   "cell_type": "code",
   "execution_count": null,
   "metadata": {},
   "outputs": [],
   "source": [
    "def load_and_preprocess_data(file_path, selected_columns):\n",
    "    data = pd.read_csv(file_path)\n",
    "    data = data[selected_columns]\n",
    "    data = data.dropna()\n",
    "    pressure_mean = data['Pressure'].mean()  # Calculate the mean of the Pressure column\n",
    "    print(\"Mean Pressure \", pressure_mean)\n",
    "    print(data[data['Pressure'] == 0].count())\n",
    "    data.loc[data['Pressure'] == 0, 'Pressure'] = pressure_mean  # Replace all the rows with the mean value if the pressure is recorded as zero\n",
    "    print(data[data['Pressure'] == 0].count())\n",
    "    return data"
   ]
  },
  {
   "cell_type": "code",
   "execution_count": null,
   "metadata": {},
   "outputs": [],
   "source": [
    "def split_features_target(data, target_column):\n",
    "    X = data.drop(target_column, axis=1)\n",
    "    y = data[target_column]\n",
    "    return X, y"
   ]
  },
  {
   "cell_type": "code",
   "execution_count": null,
   "metadata": {},
   "outputs": [],
   "source": [
    "def split_train_test(X, y, test_size=0.3, random_state=42):\n",
    "    return train_test_split(X, y, test_size=test_size, random_state=random_state)"
   ]
  },
  {
   "cell_type": "code",
   "execution_count": null,
   "metadata": {},
   "outputs": [],
   "source": [
    "def scale_data(X_train, X_test, y_train, y_test):\n",
    "    feature_scaler = StandardScaler()\n",
    "    X_train_scaled = feature_scaler.fit_transform(X_train)\n",
    "    X_test_scaled = feature_scaler.transform(X_test)\n",
    "\n",
    "    target_scaler = MinMaxScaler()\n",
    "    y_train_scaled = target_scaler.fit_transform(y_train.values.reshape(-1, 1)).flatten()\n",
    "    y_test_scaled = target_scaler.transform(y_test.values.reshape(-1, 1)).flatten()\n",
    "\n",
    "    return X_train_scaled, X_test_scaled, y_train_scaled, y_test_scaled, feature_scaler, target_scaler"
   ]
  },
  {
   "cell_type": "code",
   "execution_count": null,
   "metadata": {},
   "outputs": [],
   "source": [
    "def build_lstm_model(input_shape, hidden_units=(64, 128, 128, 64, 32, 8), learning_rate_init=0.004):\n",
    "    model = Sequential()\n",
    "    model.add(LSTM(hidden_units[0], input_shape=input_shape, return_sequences=True))\n",
    "    for units in hidden_units[1:-1]:\n",
    "        model.add(LSTM(units, return_sequences=True))\n",
    "    model.add(LSTM(hidden_units[-1]))  # Last LSTM layer without return_sequences\n",
    "    model.add(Dense(1))\n",
    "    \n",
    "    optimizer = tf.keras.optimizers.Adam(learning_rate=learning_rate_init)\n",
    "    model.compile(optimizer=optimizer, loss='mean_squared_error')\n",
    "    return model"
   ]
  },
  {
   "cell_type": "code",
   "execution_count": null,
   "metadata": {},
   "outputs": [],
   "source": [
    "class MetricsHistory(Callback):\n",
    "    def __init__(self, X_test, y_test):\n",
    "        super().__init__()\n",
    "        self.X_test = X_test\n",
    "        self.y_test = y_test\n",
    "        self.mse_history = []\n",
    "        self.r2_history = []\n",
    "        self.mae_history = []\n",
    "        self.rmse_history = []\n",
    "\n",
    "    def on_epoch_end(self, epoch, logs=None):\n",
    "        y_pred = self.model.predict(self.X_test).flatten()\n",
    "        mse = mean_squared_error(self.y_test, y_pred)\n",
    "        mae = mean_absolute_error(self.y_test, y_pred)\n",
    "        rmse = np.sqrt(mse)\n",
    "        r2 = r2_score(self.y_test, y_pred)\n",
    "        self.mse_history.append(mse)\n",
    "        self.mae_history.append(mae)\n",
    "        self.rmse_history.append(rmse)\n",
    "        self.r2_history.append(r2)"
   ]
  },
  {
   "cell_type": "code",
   "execution_count": null,
   "metadata": {},
   "outputs": [],
   "source": [
    "def train_and_record_metrics(X_train_scaled, y_train, X_test_scaled, y_test, input_shape, hidden_units, learning_rate):\n",
    "    model = build_lstm_model(input_shape=input_shape, hidden_units=hidden_units, learning_rate_init=learning_rate)\n",
    "    metrics_history = MetricsHistory(X_test_scaled, y_test)\n",
    "    lr_scheduler = ReduceLROnPlateau(monitor='val_loss', factor=0.5, patience=5, min_lr=1e-5, verbose=1)\n",
    "    model.fit(X_train_scaled, y_train, validation_data=(X_test_scaled, y_test),\n",
    "              epochs=300, batch_size=256, callbacks=[metrics_history, lr_scheduler], verbose=0)\n",
    "\n",
    "    y_pred = model.predict(X_test_scaled).flatten()\n",
    "    mse = mean_squared_error(y_test, y_pred)\n",
    "    mae = mean_absolute_error(y_test, y_pred)\n",
    "    r2 = r2_score(y_test, y_pred)\n",
    "    \n",
    "    return metrics_history, mse, mae, r2"
   ]
  },
  {
   "cell_type": "code",
   "execution_count": null,
   "metadata": {},
   "outputs": [],
   "source": [
    "def plot_metrics(metrics_histories, labels):\n",
    "    plt.figure(figsize=(20, 12))\n",
    "\n",
    "    plt.subplot(2, 2, 1)\n",
    "    for label, history in zip(labels, metrics_histories):\n",
    "        plt.plot(history.mse_history, label=f'{label}', linewidth=2)\n",
    "    plt.xlabel('Epoch', fontsize=18)\n",
    "    plt.ylabel('MSE', fontsize=18)\n",
    "    plt.title('MSE vs Epochs', fontsize=20)\n",
    "    plt.legend(fontsize=20)\n",
    "\n",
    "    plt.subplot(2, 2, 2)\n",
    "    for label, history in zip(labels, metrics_histories):\n",
    "        plt.plot(history.mae_history, label=f'{label}', linewidth=2)\n",
    "    plt.xlabel('Epoch', fontsize=18)\n",
    "    plt.ylabel('MAE', fontsize=18)\n",
    "    plt.title('MAE vs Epochs', fontsize=20)\n",
    "    plt.legend(fontsize=20)\n",
    "\n",
    "    plt.subplot(2, 2, 3)\n",
    "    for label, history in zip(labels, metrics_histories):\n",
    "        plt.plot(history.rmse_history, label=f'{label}', linewidth=2)\n",
    "    plt.xlabel('Epoch', fontsize=18)\n",
    "    plt.ylabel('RMSE', fontsize=18)\n",
    "    plt.title('RMSE vs Epochs', fontsize=20)\n",
    "    plt.legend(fontsize=20)\n",
    "\n",
    "    plt.subplot(2, 2, 4)\n",
    "    for label, history in zip(labels, metrics_histories):\n",
    "        plt.plot(history.r2_history, label=f'{label}', linewidth=2)\n",
    "    plt.xlabel('Epoch', fontsize=18)\n",
    "    plt.ylabel('R² Score', fontsize=18)\n",
    "    plt.title('R² vs Epochs', fontsize=20)\n",
    "    plt.legend(fontsize=20)\n",
    "\n",
    "    plt.tight_layout()\n",
    "    plt.show()"
   ]
  },
  {
   "cell_type": "code",
   "execution_count": null,
   "metadata": {},
   "outputs": [],
   "source": [
    "def ablation_layer_study(selected_columns, target_column='Level'):\n",
    "    merged_df = load_and_preprocess_data('./Datasets/2021-Kippure.csv', selected_columns)\n",
    "\n",
    "    X, y = split_features_target(merged_df, target_column)\n",
    "    X_train, X_test, y_train, y_test = split_train_test(X, y)\n",
    "    X_train_scaled, X_test_scaled, y_train_scaled, y_test_scaled, feature_scaler, target_scaler = scale_data(X_train, X_test, y_train, y_test) # Calling the function to scale the data. We have used StandardScaler and MinmaxScaler to scale the data. \n",
    "\n",
    "#  Defined the model parameters below\n",
    "    learning_rate = 0.001\n",
    "    hidden_layer_configurations = [\n",
    "        (64, 128, 128, 64),\n",
    "        (64, 128, 64),\n",
    "        (64, 64),\n",
    "    ]\n",
    "    metrics_histories = []\n",
    "    labels = []\n",
    "    input_shape = (1, X_train_scaled.shape[1])  # Adjust input shape for LSTM\n",
    "\n",
    "    # Initialize an empty DataFrame to store the metrics\n",
    "    metrics_df = pd.DataFrame(columns=['Architecture', 'MSE', 'MAE', 'R²'])\n",
    "\n",
    "    for hidden_layers in hidden_layer_configurations:\n",
    "        metrics_history, mse, mae, r2 = train_and_record_metrics(\n",
    "            X_train_scaled.reshape(-1, 1, X_train_scaled.shape[1]),  # Reshaping the input to the model.\n",
    "            y_train_scaled, \n",
    "            X_test_scaled.reshape(-1, 1, X_test_scaled.shape[1]), \n",
    "            y_test_scaled, \n",
    "            input_shape, hidden_layers, learning_rate\n",
    "        )\n",
    "        metrics_histories.append(metrics_history)\n",
    "        labels.append(f\"Layers {hidden_layers}\")\n",
    "        \n",
    "        # Append the final metrics to the DataFrame\n",
    "        metrics_df = pd.concat([metrics_df, pd.DataFrame([{\n",
    "            'Architecture': hidden_layers,\n",
    "            'MSE': mse,\n",
    "            'MAE': mae,\n",
    "            'R²': r2\n",
    "        }])], ignore_index=True)\n",
    "    \n",
    "    # Print the DataFrame with the metrics\n",
    "    print(metrics_df)\n",
    "\n",
    "    plot_metrics(metrics_histories, labels)"
   ]
  },
  {
   "cell_type": "code",
   "execution_count": null,
   "metadata": {},
   "outputs": [],
   "source": [
    "if __name__ == \"__main__\":\n",
    "    selected_columns = ['Windspeed', 'Humidity', 'Temperature', 'Dewpoint', 'Pressure', 'Reading', 'Wind direction', 'Level']\n",
    "    ablation_layer_study(selected_columns)"
   ]
  }
 ],
 "metadata": {
  "language_info": {
   "name": "python"
  }
 },
 "nbformat": 4,
 "nbformat_minor": 2
}

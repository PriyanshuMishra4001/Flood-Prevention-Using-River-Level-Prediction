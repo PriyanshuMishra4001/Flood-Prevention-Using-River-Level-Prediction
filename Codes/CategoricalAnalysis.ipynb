{
 "cells": [
  {
   "cell_type": "code",
   "execution_count": null,
   "metadata": {},
   "outputs": [],
   "source": [
    "# All the imports are imported here\n",
    "import pandas as pd\n",
    "import numpy as np\n",
    "from sklearn.model_selection import train_test_split\n",
    "from sklearn.preprocessing import StandardScaler, MinMaxScaler\n",
    "import tensorflow as tf\n",
    "from sklearn.metrics import mean_squared_error, r2_score\n",
    "from tensorflow.keras.models import Sequential\n",
    "from tensorflow.keras.layers import Dense\n",
    "from tensorflow.keras.callbacks import Callback, ReduceLROnPlateau\n",
    "import matplotlib.pyplot as plt"
   ]
  },
  {
   "cell_type": "code",
   "execution_count": null,
   "metadata": {},
   "outputs": [],
   "source": [
    "# This function deals with loading the data and doing some minor operations \n",
    "def load_and_preprocess_data(file_path, selected_columns):\n",
    "    data = pd.read_csv(file_path)\n",
    "    data = data[selected_columns]\n",
    "    data = data.dropna()\n",
    "    pressure_mean = data['Pressure'].mean()  # Calculate the mean of the Pressure column\n",
    "    print(\"Mean Pressure \", pressure_mean)\n",
    "    print(data[data['Pressure'] == 0].count())\n",
    "    data.loc[data['Pressure'] == 0, 'Pressure'] = pressure_mean  # Replace all the rows with the mean value if the pressure is recorded as zero\n",
    "    print(data[data['Pressure'] == 0].count())\n",
    "    return data"
   ]
  },
  {
   "cell_type": "code",
   "execution_count": null,
   "metadata": {},
   "outputs": [],
   "source": [
    "# This function splits the data into feature set and target\n",
    "def split_features_target(data, target_column):\n",
    "    X = data.drop([target_column], axis=1)\n",
    "    y = data[target_column]\n",
    "    return X, y"
   ]
  },
  {
   "cell_type": "code",
   "execution_count": null,
   "metadata": {},
   "outputs": [],
   "source": [
    "def split_train_test(X, y, test_size=0.2, random_state=420):\n",
    "    X_train, X_test, y_train, y_test = train_test_split(X, y, test_size=test_size, random_state=random_state)\n",
    "    return X_train, X_test, y_train, y_test"
   ]
  },
  {
   "cell_type": "code",
   "execution_count": null,
   "metadata": {},
   "outputs": [],
   "source": [
    "# Function to scale the data\n",
    "def scale_data(X_train, X_test, y_train, y_test):\n",
    "    feature_scaler = StandardScaler()\n",
    "    X_train_scaled = feature_scaler.fit_transform(X_train)\n",
    "    X_test_scaled = feature_scaler.transform(X_test)\n",
    "\n",
    "    target_scaler = MinMaxScaler()\n",
    "    y_train_scaled = target_scaler.fit_transform(y_train.values.reshape(-1, 1)).flatten()\n",
    "    y_test_scaled = target_scaler.transform(y_test.values.reshape(-1, 1)).flatten()\n",
    "\n",
    "    return X_train_scaled, X_test_scaled, y_train_scaled, y_test_scaled, feature_scaler, target_scaler"
   ]
  },
  {
   "cell_type": "code",
   "execution_count": null,
   "metadata": {},
   "outputs": [],
   "source": [
    "# The model is built in this block of code\n",
    "def build_model(input_dim, hidden_layer_sizes=(64, 128, 128, 64, 32, 8), learning_rate_init=0.004):\n",
    "    model = Sequential()\n",
    "    model.add(Dense(hidden_layer_sizes[0], input_dim=input_dim, activation='relu'))\n",
    "    for layer_size in hidden_layer_sizes[1:]:\n",
    "        model.add(Dense(layer_size, activation='relu'))\n",
    "    model.add(Dense(1))\n",
    "    optimizer = tf.keras.optimizers.Adam(learning_rate=learning_rate_init)\n",
    "    model.compile(optimizer=optimizer, loss='mean_squared_error')\n",
    "    return model"
   ]
  },
  {
   "cell_type": "code",
   "execution_count": null,
   "metadata": {},
   "outputs": [],
   "source": [
    "#This class has a function on_epoch_end which stores the mse and r2  on the end of each epoch. \n",
    "class MetricsHistory(Callback):\n",
    "    def __init__(self, X_test, y_test):\n",
    "        super().__init__()\n",
    "        self.X_test = X_test\n",
    "        self.y_test = y_test\n",
    "        self.mse_history = []\n",
    "        self.r2_history = []\n",
    "        self.y_pred = []\n",
    "\n",
    "    def on_epoch_end(self, epoch, logs=None):\n",
    "        y_pred = self.model.predict(self.X_test).flatten()\n",
    "        self.y_pred = y_pred\n",
    "        mse = mean_squared_error(self.y_test, y_pred)\n",
    "        r2 = r2_score(self.y_test, y_pred)\n",
    "        self.mse_history.append(mse)\n",
    "        self.r2_history.append(r2)"
   ]
  },
  {
   "cell_type": "code",
   "execution_count": null,
   "metadata": {},
   "outputs": [],
   "source": [
    "def train_and_record_metrics(X_train_scaled, y_train, X_test_scaled, y_test, input_dim, hidden_layer_sizes, learning_rate):\n",
    "    model = build_model(input_dim=input_dim, hidden_layer_sizes=hidden_layer_sizes, learning_rate_init=learning_rate)# Initializimg the model with the given parameters\n",
    "    metrics_history = MetricsHistory(X_test_scaled, y_test) # Making the object of the class MetricsHistory\n",
    "    lr_scheduler = ReduceLROnPlateau(monitor='val_loss', factor=0.5, patience=5, min_lr=1e-5, verbose=1) # It is used for adjusting the learningn rate with increasing epocs. It uses val_loss as its metrics by which it judges whether is it needed to change the learning rate or not\n",
    "    model.fit(X_train_scaled, y_train, validation_data=(X_test_scaled, y_test),\n",
    "              epochs=300, batch_size=256, callbacks=[metrics_history, lr_scheduler], verbose=0) # Training the model\n",
    "\n",
    "    return metrics_history, model"
   ]
  },
  {
   "cell_type": "code",
   "execution_count": null,
   "metadata": {},
   "outputs": [],
   "source": [
    "# This function is used to find the starting value of each of the ranges of the various features of the feature set\n",
    "def create_ranges(df, column):\n",
    "    min_val = df[column].min()\n",
    "    max_val = df[column].max()\n",
    "    range_size = (max_val - min_val) / 3\n",
    "    lower_bound = min_val + range_size\n",
    "    upper_bound = lower_bound + range_size\n",
    "    return lower_bound, upper_bound"
   ]
  },
  {
   "cell_type": "code",
   "execution_count": null,
   "metadata": {},
   "outputs": [],
   "source": [
    "# In this function, data in split into different categories based on the value in which the various observations of the feature lies.\n",
    "def categorize_data(X_test, ranges):\n",
    "    categories = {col: {'Lower': [], 'Midrange': [], 'Higher': []} for col in ranges}\n",
    "    counts = {col: {'Lower': 0, 'Midrange': 0, 'Higher': 0} for col in ranges} # For counting the observations in different categories\n",
    "\n",
    "    for idx, row in X_test.iterrows(): # This for loop is just segregating the observations in different categories based on the ranges receieved from the create ranges function\n",
    "        for col, (lower_bound, upper_bound) in ranges.items():\n",
    "            if row[col] <= lower_bound:\n",
    "                categories[col]['Lower'].append(idx)\n",
    "                counts[col]['Lower'] += 1\n",
    "            elif row[col] <= upper_bound:\n",
    "                categories[col]['Midrange'].append(idx)\n",
    "                counts[col]['Midrange'] += 1\n",
    "            else:\n",
    "                categories[col]['Higher'].append(idx)\n",
    "                counts[col]['Higher'] += 1\n",
    "\n",
    "    for col, category_counts in counts.items():\n",
    "        print(f\"Feature: {col}\")\n",
    "        for category, count in category_counts.items():\n",
    "            print(f\"  {category}: {count} observations\")\n",
    "\n",
    "    return categories"
   ]
  },
  {
   "cell_type": "code",
   "execution_count": null,
   "metadata": {},
   "outputs": [],
   "source": [
    "# This function just evaluates the model on the different categories of data segregated\n",
    "def evaluate_model_on_categories(model, X_test, X_test_scaled, y_test_scaled, categories):\n",
    "    results = {col: {'Lower': [], 'Midrange': [], 'Higher': []} for col in categories}\n",
    "    summary_data = []\n",
    "\n",
    "    for col, ranges in categories.items():\n",
    "        for category in ['Lower', 'Midrange', 'Higher']:\n",
    "            indices = ranges[category]\n",
    "            if indices:\n",
    "                X_cat = X_test_scaled[X_test.index.get_indexer(indices), :]\n",
    "                y_cat_scaled = y_test_scaled[X_test.index.get_indexer(indices)]\n",
    "                y_pred_cat = model.predict(X_cat).flatten()\n",
    "                mse = mean_squared_error(y_cat_scaled, y_pred_cat)\n",
    "                r2 = r2_score(y_cat_scaled, y_pred_cat)\n",
    "                results[col][category] = (mse, r2)\n",
    "                summary_data.append({'Feature': col, 'Category': category, 'MSE': mse, 'R2': r2})\n",
    "\n",
    "    summary_df = pd.DataFrame(summary_data)\n",
    "    print(summary_df)\n",
    "    return results"
   ]
  },
  {
   "cell_type": "code",
   "execution_count": null,
   "metadata": {},
   "outputs": [],
   "source": [
    "# This function is plotting the histograms for the three categories of data for each of the mentioned features\n",
    "def plot_histograms(results):\n",
    "    for col, metrics in results.items():\n",
    "        categories = list(metrics.keys())\n",
    "        mse_values = [metrics[cat][0] for cat in categories]\n",
    "        r2_values = [metrics[cat][1] for cat in categories]\n",
    "\n",
    "        plt.figure(figsize=(12, 5))\n",
    "\n",
    "        plt.subplot(1, 2, 1)\n",
    "        plt.bar(categories, mse_values, color=['blue', 'orange', 'green'])\n",
    "        plt.xlabel('Category', fontsize=18)\n",
    "        plt.ylabel('MSE', fontsize=18)\n",
    "        plt.title(f'{col} - MSE', fontsize=18)\n",
    "\n",
    "        plt.subplot(1, 2, 2)\n",
    "        plt.bar(categories, r2_values, color=['blue', 'orange', 'green'])\n",
    "        plt.xlabel('Category', fontsize=18)\n",
    "        plt.ylabel('R² Score', fontsize=18)\n",
    "        plt.title(f'{col} - R² Score', fontsize=18)\n",
    "\n",
    "        plt.tight_layout()\n",
    "        plt.show()"
   ]
  },
  {
   "cell_type": "code",
   "execution_count": null,
   "metadata": {},
   "outputs": [],
   "source": [
    "if __name__ == \"__main__\":\n",
    "    selected_columns = ['Windspeed', 'Humidity', 'Temperature', 'Dewpoint', 'Pressure', 'Reading', 'Wind direction', 'Level']\n",
    "\n",
    "    merged_df = load_and_preprocess_data('./Datasets/2021-Ballymun.csv', selected_columns) #Calling the function to do some preprocessing and loading the data\n",
    "    original_X, original_y = split_features_target(merged_df, 'Level') # Splitting the data into features, target\n",
    "    original_X_train, original_X_test, original_y_train, original_y_test = split_train_test(original_X, original_y) # Calling the function to split the data into training and testing data. \n",
    "    original_X_train_scaled, original_X_test_scaled, original_y_train_scaled, original_y_test_scaled, feature_scaler, target_scaler = scale_data(original_X_train, original_X_test, original_y_train, original_y_test) # Calling the function to scale the data. We have used StandardScaler and MinmaxScaler to scale the data. \n",
    "#  Defined the model parameters below\n",
    "\n",
    "    learning_rate = 0.001\n",
    "    hidden_layer_sizes = (64, 128, 128, 64)\n",
    "    metrics_history, model = train_and_record_metrics(original_X_train_scaled, original_y_train_scaled, original_X_test_scaled,\n",
    "                                                      original_y_test_scaled, original_X.shape[1], hidden_layer_sizes, learning_rate)\n",
    "\n",
    "    columns_to_analyze = ['Wind direction', 'Windspeed','Humidity', 'Temperature']\n",
    "    ranges = {col: create_ranges(original_X_test, col) for col in columns_to_analyze}\n",
    "    categories = categorize_data(original_X_test, ranges)\n",
    "    results = evaluate_model_on_categories(model, original_X_test, original_X_test_scaled, original_y_test_scaled, categories)\n",
    "    plot_histograms(results)"
   ]
  }
 ],
 "metadata": {
  "language_info": {
   "name": "python"
  }
 },
 "nbformat": 4,
 "nbformat_minor": 2
}

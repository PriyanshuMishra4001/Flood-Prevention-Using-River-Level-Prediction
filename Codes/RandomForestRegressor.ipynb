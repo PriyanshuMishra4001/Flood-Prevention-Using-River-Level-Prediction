{
 "cells": [
  {
   "cell_type": "code",
   "execution_count": null,
   "metadata": {},
   "outputs": [],
   "source": [
    "from sklearn.ensemble import RandomForestRegressor\n",
    "from sklearn.metrics import r2_score, mean_squared_error\n",
    "import pandas as pd\n",
    "import numpy as np\n",
    "from sklearn.model_selection import train_test_split\n",
    "from sklearn.preprocessing import StandardScaler, MinMaxScaler\n",
    "import tensorflow as tf\n",
    "from sklearn.model_selection import GridSearchCV\n",
    "from math import sqrt"
   ]
  },
  {
   "cell_type": "code",
   "execution_count": null,
   "metadata": {},
   "outputs": [],
   "source": [
    "# This function deals with loading the data and doing some minor operations\n",
    "def load_and_preprocess_data(file_path, selected_columns):\n",
    "    data = pd.read_csv(file_path)\n",
    "    data = data[selected_columns]\n",
    "    data = data.dropna()\n",
    "    pressure_mean = data['Pressure'].mean()  # Calculate the mean of the Pressure column\n",
    "    print(\"Mean Pressure \", pressure_mean)\n",
    "    print(data[data['Pressure'] == 0].count())\n",
    "    data.loc[data['Pressure'] == 0, 'Pressure'] = pressure_mean  # Replace all the rows with the mean value if the pressure is recorded as zero\n",
    "    print(data[data['Pressure'] == 0].count())\n",
    "    return data"
   ]
  },
  {
   "cell_type": "code",
   "execution_count": null,
   "metadata": {},
   "outputs": [],
   "source": [
    "# This function splits the data into feature set and target\n",
    "def split_features_target(data, target_column):\n",
    "    X = data.drop(target_column, axis=1)\n",
    "    y = data[target_column]\n",
    "    return X, y"
   ]
  },
  {
   "cell_type": "code",
   "execution_count": null,
   "metadata": {},
   "outputs": [],
   "source": [
    "\n",
    "def split_train_test(X, y, test_size=0.3, random_state=420):\n",
    "    return train_test_split(X, y, test_size=test_size, random_state=random_state)"
   ]
  },
  {
   "cell_type": "code",
   "execution_count": null,
   "metadata": {},
   "outputs": [],
   "source": [
    "# Function to scale the data\n",
    "def scale_data(X_train, X_test, y_train, y_test):\n",
    "    feature_scaler = StandardScaler()\n",
    "    X_train_scaled = feature_scaler.fit_transform(X_train)\n",
    "    X_test_scaled = feature_scaler.transform(X_test)\n",
    "\n",
    "    target_scaler = MinMaxScaler()\n",
    "    y_train_scaled = target_scaler.fit_transform(y_train.values.reshape(-1, 1)).flatten()\n",
    "    y_test_scaled = target_scaler.transform(y_test.values.reshape(-1, 1)).flatten()\n",
    "\n",
    "    return X_train_scaled, X_test_scaled, y_train_scaled, y_test_scaled, feature_scaler, target_scaler"
   ]
  },
  {
   "cell_type": "code",
   "execution_count": null,
   "metadata": {},
   "outputs": [],
   "source": [
    "selected_columns = ['Windspeed', 'Humidity', 'Temperature', 'Dewpoint', 'Pressure', 'Reading', 'Wind direction', 'Level']\n",
    "merged_df = load_and_preprocess_data('./Datasets/2023-Kippure.csv', selected_columns)\n",
    "X, y = split_features_target(merged_df, 'Level')\n",
    "X_train, X_test, y_train, y_test = split_train_test(X, y)\n",
    "X_train_scaled, X_test_scaled, y_train_scaled, y_test_scaled, feature_scaler, target_scaler = scale_data(X_train, X_test, y_train, y_test)"
   ]
  },
  {
   "cell_type": "code",
   "execution_count": null,
   "metadata": {},
   "outputs": [],
   "source": [
    "# You can define the various parameters below in the param_grid. The grid search CV will take out the best combination of the parameter for your dataset\n",
    "param_grid = {\n",
    "    'n_estimators': [50,75,100,150,200],\n",
    "    'max_depth': [12,18,24],\n",
    "    'min_samples_split': [15,20],\n",
    "    'min_samples_leaf': [12,18, 22],\n",
    "    'max_features': [None]\n",
    "    # 'max_features': ['auto', 'sqrt', 'log2']\n",
    "}\n",
    "\n",
    "# Initialize the Random Forest Regressor\n",
    "rf_regressor = RandomForestRegressor(random_state=42)\n",
    "\n",
    "# Set up the grid search\n",
    "grid_search = GridSearchCV(estimator=rf_regressor, param_grid=param_grid, cv=5, n_jobs=1, scoring='neg_mean_squared_error')\n",
    "\n",
    "# Convert to NumPy arrays to ensure compatibility\n",
    "X_train_np = np.array(X_train_scaled)\n",
    "y_train_np = np.array(y_train_scaled)\n",
    "\n",
    "# Fit the grid search to the data\n",
    "grid_search.fit(X_train_np, y_train_np)\n",
    "\n",
    "# Get the best parameters\n",
    "best_params = grid_search.best_params_\n",
    "print(f\"Best parameters: {best_params}\")\n",
    "\n",
    "# Train the model with the best parameters\n",
    "best_rf_regressor = RandomForestRegressor(**best_params, random_state=42)\n",
    "best_rf_regressor.fit(X_train_np, y_train_np)\n",
    "\n",
    "# Convert test data to NumPy arrays\n",
    "X_test_np = np.array(X_test_scaled)\n",
    "y_test_np = np.array(y_test_scaled)\n",
    "\n",
    "# Make predictions\n",
    "y_pred = best_rf_regressor.predict(X_test_np)\n"
   ]
  },
  {
   "cell_type": "code",
   "execution_count": null,
   "metadata": {},
   "outputs": [],
   "source": [
    "# Evaluate the model\n",
    "mse = mean_squared_error(y_test_scaled, y_pred)\n",
    "r2 = r2_score(y_test_scaled, y_pred)\n",
    "print(f\"Mean Squared Error: {mse}\")\n",
    "print(f\"R-squared: {r2}\")"
   ]
  }
 ],
 "metadata": {
  "language_info": {
   "name": "python"
  }
 },
 "nbformat": 4,
 "nbformat_minor": 2
}

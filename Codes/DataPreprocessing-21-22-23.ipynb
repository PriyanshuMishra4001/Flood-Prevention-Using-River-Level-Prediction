{
 "cells": [
  {
   "cell_type": "code",
   "execution_count": null,
   "metadata": {},
   "outputs": [],
   "source": [
    "import pandas as pd\n",
    "import random\n",
    "import matplotlib.pyplot as plt\n",
    "import folium\n",
    "from folium.plugins import HeatMap\n",
    "import seaborn as sns\n",
    "import numpy as np\n",
    "import seaborn as sns\n",
    "from scipy.stats import zscore"
   ]
  },
  {
   "cell_type": "code",
   "execution_count": null,
   "metadata": {},
   "outputs": [],
   "source": [
    "weatherdf = pd.read_csv(\"/content/drive/MyDrive/UCD /Raw Data/dcc-weather-data-2021.csv\")\n",
    "rainfalldf = pd.read_csv(\"/content/drive/MyDrive/UCD /Raw Data/dcc-rainfall-data-2021.csv\")\n",
    "riverdf = pd.read_csv(\"/content/drive/MyDrive/UCD /Raw Data/dcc-river-level-data-2021.csv\")"
   ]
  },
  {
   "cell_type": "code",
   "execution_count": null,
   "metadata": {},
   "outputs": [],
   "source": [
    "print(\"The various columns in weather data is :- \\n\", weatherdf.head(0))\n",
    "print(\"The various columns in rainfall data is :- \\n\", rainfalldf.head(0))\n",
    "print(\"The various columns in river level data is :- \\n\", riverdf.head(0))"
   ]
  },
  {
   "cell_type": "code",
   "execution_count": null,
   "metadata": {},
   "outputs": [],
   "source": [
    "print(set(rainfalldf['Location']))\n",
    "print(set(weatherdf['Location']))\n",
    "print(set(riverdf['Location']))"
   ]
  },
  {
   "cell_type": "code",
   "execution_count": null,
   "metadata": {},
   "outputs": [],
   "source": [
    "weatherdf['Location'] = weatherdf['Location'].str.lower().str.strip()\n",
    "rainfalldf['Location'] = rainfalldf['Location'].str.lower().str.strip()\n",
    "riverdf['Location'] = riverdf['Location'].str.lower().str.strip()\n",
    "st1 = set(weatherdf['Location'])\n",
    "st2 = set(rainfalldf['Location'])\n",
    "st3 = set(riverdf['Location'])\n",
    "st4 = set(riverdf['Instrument Type'])\n",
    "print(\"Weather data locations :- \", st1)\n",
    "print('\\n')\n",
    "print(\"Rainfall data locations :- \", st2)\n",
    "print('\\n')\n",
    "print(\"River Level data locations :- \", st3)\n",
    "print('\\n')\n"
   ]
  },
  {
   "cell_type": "code",
   "execution_count": null,
   "metadata": {},
   "outputs": [],
   "source": [
    "def transform_location_weather_and_rainfall(row):\n",
    "    if row == 'osberstown':\n",
    "        return 'osberstown'\n",
    "    elif row == 'ballymun coultry parks depot':\n",
    "        return 'ballymun'\n",
    "    elif row ==  'civic offices':\n",
    "        return 'civicoffices'\n",
    "    elif row == 'pigeon house':\n",
    "        return 'pigeonhouse'\n",
    "    elif row == 'kippure':\n",
    "        return 'kippure'\n",
    "    else:\n",
    "        return row\n",
    "\n",
    "# Apply the function to transform locations and filter out rows\n",
    "weatherdf['Location'] = weatherdf['Location'].apply(transform_location_weather_and_rainfall)\n",
    "rainfalldf['Location'] = rainfalldf['Location'].apply(transform_location_weather_and_rainfall)\n",
    "st1 = set(weatherdf['Location'])\n",
    "st2 = set(rainfalldf['Location'])\n",
    "print(\"Common PLaces for weather and rainfall dataset :- \",(st1.intersection(st2)))"
   ]
  },
  {
   "cell_type": "code",
   "execution_count": null,
   "metadata": {},
   "outputs": [],
   "source": [
    "def transform_location(row):\n",
    "    if row == 'rye water leixslip':\n",
    "        return 'rye water leixslip'\n",
    "    elif row == 'finglas weir (the tolka)':\n",
    "        return 'ballymun'\n",
    "    elif row == 'bohernabreena weir (dodder river)':\n",
    "        return 'kippure'\n",
    "    elif row == \"rory o'moore bridge\":\n",
    "        return 'civicoffices'\n",
    "    elif row == 'pigeon house':\n",
    "        return 'pigeonhouse'\n",
    "    else:\n",
    "        return row\n",
    "\n",
    "# Apply the function to transform locations and filter out rows\n",
    "riverdf['Location'] = riverdf['Location'].apply(transform_location)\n",
    "st3 = set(riverdf['Location'])\n",
    "print(\"Common PLaces for river and rainfall dataset :- \",(st3.intersection(st2.intersection(st1))))\n",
    "# print(riverdf.count())\n",
    "# print(riverdf)\n",
    "# print(set(riverdf['Location']))\n",
    "# print(set(riverdf['Instrument Type']))"
   ]
  },
  {
   "cell_type": "code",
   "execution_count": null,
   "metadata": {},
   "outputs": [],
   "source": [
    "weather_merged_river = pd.merge(riverdf, weatherdf,  on=['Timestamp', 'Location'], how='inner')\n",
    "merged_all = pd.merge(weather_merged_river, rainfalldf,  on=['Timestamp', 'Location'], how='inner')\n",
    "print(merged_all.count())\n",
    "merged_all.head()"
   ]
  },
  {
   "cell_type": "code",
   "execution_count": null,
   "metadata": {},
   "outputs": [],
   "source": [
    "merged_all = merged_all[merged_all['Instrument Type']=='River Monitor']\n",
    "print(merged_all.count())"
   ]
  }
 ],
 "metadata": {
  "language_info": {
   "name": "python"
  }
 },
 "nbformat": 4,
 "nbformat_minor": 2
}
